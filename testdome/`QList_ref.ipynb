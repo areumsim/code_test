{
 "cells": [
  {
   "cell_type": "markdown",
   "metadata": {},
   "source": [
    "# < 테스트돔 python, public 예시, 총 15문제 >\n",
    "\n",
    "[ site : https://www.testdome.com/library?page=1&skillArea=33&questionSets=public ]\n",
    "\n",
    "- Malware Analysis\t -\n",
    "- Student Majors\t - 코드아님 / 문제\n",
    "- Ice Cream Machine   - 품(시간내 - itertools / products )\n",
    "- Pipeline\t\t\t  - 품 (시간내)\n",
    "- Binary Search Tree - 품\n",
    "- Route Planner\t\t -\n",
    "- Merge Name\t\t - 품(시간내)\n",
    "- Two Sum\t\t\t - 품 ( dictionaty )\n",
    "- Song \t\t\t    - 품 ( set ... )\n",
    "- Sorted Search \t - 시간안에 못품 ***** [ttps://www.testdome.com/questions/python/sorted-search/94854](https://www.testdome.com/questions/python/sorted-search/94854)\n",
    "- Quadratic Equation  - 품 (시간내)\n",
    "- League Table\t\t - 못품 ㅠㅠ *******\thttps://www.testdome.com/questions/python/league-table/94851\n",
    "- User Input \t\t - 품 ( sum ... )\n",
    "- Train Composition  - 품 (시간내)\n",
    "- File Owners \t\t - 품 (시간내)"
   ]
  },
  {
   "cell_type": "markdown",
   "metadata": {},
   "source": []
  },
  {
   "cell_type": "code",
   "execution_count": null,
   "metadata": {},
   "outputs": [],
   "source": [
    "## 함수를 인자로\n",
    "\n",
    "def plus(a, b):\n",
    "    return a + b\n",
    "\n",
    "def minus(a, b):\n",
    "    return a - b\n",
    "\n",
    "list = [plus, minus]\n",
    "a = list[0](1, 2)\n",
    "b = list[1](1, 2)"
   ]
  },
  {
   "cell_type": "markdown",
   "metadata": {},
   "source": [
    "### 인자 특징\n",
    "\n",
    "def 함수이름(*args, **kwarg):\n",
    "\n",
    "- *args : 변수의 수가 정해지지 않은 경우\n",
    "- **kwarg : 변수의 수가 정해지지 않음/ 딕셔터리 형태로 입력"
   ]
  },
  {
   "cell_type": "code",
   "execution_count": null,
   "metadata": {},
   "outputs": [],
   "source": []
  },
  {
   "cell_type": "code",
   "execution_count": null,
   "metadata": {},
   "outputs": [],
   "source": []
  },
  {
   "cell_type": "markdown",
   "metadata": {},
   "source": [
    "### Class Inherits\n",
    "\n",
    "- class 상속\n",
    "    \n",
    "    ```python\n",
    "    class Family:\n",
    "        def __init__(self):\n",
    "            self.lastname = \"홍\"\n",
    "        def lname(self):\n",
    "            print(\"성은 %s입니다.\" %self.lastname)\n",
    "    \n",
    "    class Person(**Family**):\n",
    "        def fname(self):\n",
    "            print(\"이름은 %s입니다.\" %self.firstname)\n",
    "    ```\n",
    "    \n",
    "\n",
    "- Method Overriding\n",
    "    \n",
    "    ```python\n",
    "    class Family:\n",
    "        def introduce(self):\n",
    "            print(\"저희는 가족입니다.\")\n",
    "    \n",
    "    class Person(Family):\n",
    "        pass\n",
    "    \n",
    "    b = Person()\n",
    "    b.introduce() # 저희는 가족입니다.\n",
    "    ```\n",
    "    \n",
    "    ```python\n",
    "    class Family:\n",
    "        def introduce(self):\n",
    "            print(\"저희는 가족입니다.\")\n",
    "    \n",
    "    class Person(Family):\n",
    "        def introduce(self):\n",
    "            print(\"저는 가족의 구성원입니다.\")\n",
    "    \n",
    "    b = Person()\n",
    "    b.introduce() # 저는 가족의 구성원입니다.\n",
    "    ```\n",
    "    \n",
    "    ```python\n",
    "    class Family:\n",
    "        def introduce(self):\n",
    "            print(\"저희는 가족입니다.\")\n",
    "    \n",
    "    class Person(Family):\n",
    "        def introduce(self):\n",
    "            super().introduce()\n",
    "            print(\"저는 가족의 구성원입니다.\")\n",
    "    \n",
    "    b = Person()\n",
    "    b.introduce() # 저희는 가족입니다. \n",
    "                  # 저는 가족의 구성원입니다.\n",
    "    ```\n",
    "    \n",
    "\n",
    "- **추상클래스**\n",
    "    - 구현 강제 : 자식 클래스에 특정 메서드가 꼭 존재 / 자식 클래스마다 이름은 같지만 기능은 모두 다른 메서드를 만들고 싶은 경우에 이를 구현하도록 강제하기 위해서 사용"
   ]
  },
  {
   "cell_type": "code",
   "execution_count": null,
   "metadata": {},
   "outputs": [],
   "source": []
  },
  {
   "cell_type": "markdown",
   "metadata": {},
   "source": [
    "**List 시간 초과**\n",
    "\n",
    "- list에서 del이 pop보다 빠름(하지만 del은 값을 출력하지 않음)"
   ]
  },
  {
   "cell_type": "code",
   "execution_count": null,
   "metadata": {},
   "outputs": [],
   "source": []
  },
  {
   "cell_type": "markdown",
   "metadata": {},
   "source": [
    "### DEQUE (양방향큐)\n",
    "\n",
    "```python\n",
    "from collections import deque\n",
    "\n",
    "deq = deque()\n",
    "\n",
    "# Add element to the start\n",
    "deq.appendleft(10)\n",
    "\n",
    "# Add element to the end\n",
    "deq.append(0)\n",
    "\n",
    "# Add element to the mid(idx)\n",
    "deq.insert(idx, value)\n",
    "\n",
    "# Pop element from the start\n",
    "deq.popleft()\n",
    "\n",
    "# Pop element from the end\n",
    "deq.pop()\n",
    "```"
   ]
  },
  {
   "cell_type": "code",
   "execution_count": null,
   "metadata": {},
   "outputs": [],
   "source": []
  },
  {
   "cell_type": "markdown",
   "metadata": {},
   "source": [
    "### bisect\n",
    "\n",
    "```python\n",
    "bisect_left(literable, value) : 왼쪽 인덱스를 구하기\n",
    "\n",
    "bisect_right(literable, value) : 오른쪽 인덱스를 구하기\n",
    "```"
   ]
  },
  {
   "cell_type": "code",
   "execution_count": null,
   "metadata": {},
   "outputs": [],
   "source": []
  },
  {
   "cell_type": "markdown",
   "metadata": {},
   "source": [
    "### SET ( list는 느림 … )\n",
    "\n",
    "s1 = set([1, 2, 3, 4, 5, 6])\n",
    "\n",
    "s1.add(4)\n",
    "\n",
    "s1.update([4, 5, 6])\n",
    "\n",
    "s1.remove(2)\n",
    "\n",
    "\n",
    "- 인덱스가 필요하면 list나 tuple로 변환    \n",
    "    l1 = list(s1)\n",
    "    t1 = tuple(s1)"
   ]
  },
  {
   "cell_type": "code",
   "execution_count": null,
   "metadata": {},
   "outputs": [],
   "source": []
  },
  {
   "cell_type": "markdown",
   "metadata": {},
   "source": [
    "### itertools - product\n",
    "\n",
    "```python\n",
    "from itertools import product\n",
    "\n",
    "def scoops(self):\n",
    "        return [list(p) for p in product(self.ingredients, self.toppings)]\n",
    "```\n",
    "\n",
    "1. itertools.product() \n",
    "    \n",
    "    두 개 이상의 리스트(or 집합) 끼리의 데카르트 곱(cartesian product)\n",
    "    \n",
    "2. itertools.permutations()\n",
    "    \n",
    "    순열, 한 리스트에서 중복을 허용한 모든 경우의 수. 반환되는 항목의 수=`n! / r!`\n",
    "    \n",
    "3. itertools.combinations()\n",
    "    \n",
    "    조합, 한 리스트에서 중복을 허용하지 않은 모든 경우의 수를. 반환되는 항목의 수=`n! / r! / (n - r)!`\n",
    "    \n",
    "4. itertools.combinations_with_replacement(): 중복조합"
   ]
  }
 ],
 "metadata": {
  "kernelspec": {
   "display_name": "Python 3",
   "language": "python",
   "name": "python3"
  },
  "language_info": {
   "codemirror_mode": {
    "name": "ipython",
    "version": 3
   },
   "file_extension": ".py",
   "mimetype": "text/x-python",
   "name": "python",
   "nbconvert_exporter": "python",
   "pygments_lexer": "ipython3",
   "version": "3.11.2"
  }
 },
 "nbformat": 4,
 "nbformat_minor": 2
}
