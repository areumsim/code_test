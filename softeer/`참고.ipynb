{
 "cells": [
  {
   "cell_type": "markdown",
   "metadata": {},
   "source": [
    "# 입력 참고 "
   ]
  },
  {
   "cell_type": "code",
   "execution_count": null,
   "metadata": {},
   "outputs": [],
   "source": [
    "\n",
    "import sys\n",
    "\n",
    "n = int(sys.stdin.readline())\n",
    "\n",
    "n, k = map(int, sys.stdin.readline().split())\n",
    "\n",
    "input = sys.stdin.readline\n",
    "\n",
    "h, w = map(int, input().split())\n",
    "pixels = [list(map(int, input().split())) for _ in range(h)]"
   ]
  },
  {
   "cell_type": "code",
   "execution_count": null,
   "metadata": {},
   "outputs": [],
   "source": [
    "### 입력 : 문자열 n줄을 입력받아 리스트에 저장할 때 ###\n",
    "import sys\n",
    "\n",
    "n = int(sys.stdin.readline())\n",
    "data = [sys.stdin.readline().strip() for i in range(n)]"
   ]
  },
  {
   "cell_type": "code",
   "execution_count": null,
   "metadata": {},
   "outputs": [],
   "source": []
  },
  {
   "cell_type": "markdown",
   "metadata": {},
   "source": [
    "# 출력 참고"
   ]
  },
  {
   "cell_type": "markdown",
   "metadata": {},
   "source": [
    "\n",
    "print(f\"{avg:.2f} / {avg:.2f}\")\n",
    "\n",
    "**`f\"{*실수*:.*표기할 자리수*f}\"`**\n",
    "\n",
    "\n",
    "print(\"{:.2f} / {:.2f}\".format(num1, num2))\n",
    "\n",
    "**`\"{*index*:.*표기할 자리수*f}\".foramt(실수)`**\n",
    "\n",
    "\n",
    "print(\"\", format(num, \".2f\"))\n",
    "\n",
    "**`format(*실수*, \".*표기할 자리수*f\")`**\n",
    "\n",
    "\n",
    "print(round(avg, 2))\n",
    "\n",
    "**`round(*실수*, *표기할 자리수*)`**\n",
    "\n",
    "\n",
    "print(\"%0.2f\"%avg)"
   ]
  },
  {
   "cell_type": "markdown",
   "metadata": {},
   "source": [
    "\n",
    "\n",
    "- **리스트에 있는 문자열을 하나의 문자열로 변환 : `'구분자'.join(리스트)`**\n",
    "\n",
    "```python\n",
    "li = ['a', 'b', 'c']\n",
    "print(\"\".join(li))# 'abc' 출력\n",
    "print(\"_\".join(li))# 'a_b_c' 출력\n",
    "```\n",
    "\n",
    "- 리스트에 있는 숫자를 이어 출력하고자 할 때에는 문자열로 변환하여 동일하게 할 수 있다.\n",
    "\n",
    "```python\n",
    "li = [1,2,3,4]\n",
    "str = \" \".join(list(map(str,li)))\n",
    "print(str)# 1 2 3 4 출력\n",
    "```"
   ]
  },
  {
   "cell_type": "code",
   "execution_count": null,
   "metadata": {},
   "outputs": [],
   "source": []
  },
  {
   "cell_type": "markdown",
   "metadata": {},
   "source": [
    "## itertools"
   ]
  },
  {
   "cell_type": "code",
   "execution_count": null,
   "metadata": {},
   "outputs": [],
   "source": [
    "import itertools\n",
    "\n",
    "l1 = [\"a\",\"b\",\"c\"]\n",
    "\n",
    "## **순열(Permutations)**\n",
    "\n",
    "p = itertools.permutations(l1)\n",
    "print(list(p))# [('a', 'b', 'c'), ('a', 'c', 'b'), ('b', 'a', 'c'), ('b', 'c', 'a'), ('c', 'a', 'b'), ('c', 'b', 'a')]\n",
    "\n",
    "## **조합(Combinations)**\n",
    "c = list(itertools.combinations(l1,2))\n",
    "print(c)# [('a', 'b'), ('a', 'c'), ('b', 'c')]\n",
    "\n",
    "### map으로 출력\n",
    "print(list(map(\"\".join, p)))# ['abc', 'acb', 'bac', 'bca', 'cab', 'cba']"
   ]
  },
  {
   "cell_type": "code",
   "execution_count": null,
   "metadata": {},
   "outputs": [],
   "source": []
  },
  {
   "cell_type": "markdown",
   "metadata": {},
   "source": [
    "## deque"
   ]
  },
  {
   "cell_type": "code",
   "execution_count": null,
   "metadata": {},
   "outputs": [],
   "source": [
    "from collections import deque\n",
    "\n",
    "queue= deque()\n",
    "\n",
    "### append(x) : 큐의 뒤로 삽입\n",
    "queue.append('b')\n",
    "# queue = ['b']\n",
    "\n",
    "queue.append('a')\n",
    "# queue = ['b', 'a']\n",
    "\n",
    "### appendleft(x): 큐의 앞으로 삽입\n",
    "queue.appendleft('a')\n",
    "# queue = ['a', 'b', 'a']\n",
    "\n",
    "\n",
    "### count(x): 큐에서 x와 같은 값의 개수\n",
    "print(queue.count('a'))\n",
    "# 2\n",
    "\n",
    "\n",
    "### extend(iterable): iterable한 값을 파라미터로 넣으면 해당 값들이 하나씩 큐의 오른쪽에 붙음\n",
    "# queue = ['b']\n",
    "\n",
    "queue.extend('lft')\n",
    "# queue = ['b', 'l', 'f', 't']\n",
    "\n",
    "queue.append('lft')\n",
    "# queue = ['b', 'l', 'f', 't', 'lft']\n",
    "\n",
    "\n",
    "### extendleft(iterable): iterable한 값을 파라미터로 넣으면 해당 값들이 하나씩 큐의 왼쪽에 붙음\n",
    "queue.extendleft('lft')\n",
    "# queue = ['t', 'f', 'l', 'b']\n",
    "\n",
    "queue.appendleft('lft')\n",
    "# queue = ['lft', 't', 'f', 'l', 'b']"
   ]
  },
  {
   "cell_type": "code",
   "execution_count": null,
   "metadata": {},
   "outputs": [],
   "source": [
    "\n",
    "### index(x, start: int, stop: int) : 큐(인덱스 시작 후 및 인덱스 중지 전)에서 x의 위치를 반환. 첫 번째 일치를 반환하거나 찾을 수 없는 경우 ValueError 발생.\n",
    "\n",
    "queue = deque()\n",
    "...\n",
    "# queue = ['y', 'n', 'k', 'b']\n",
    "print(queue.index('b')) \t\t# 4\n",
    "\n",
    "# index(x, start: int)\n",
    "print(queue.index('b', 1))\t# 4\n",
    "\n",
    "# index(x, start: int, stop: int)\n",
    "print(queue.index('b', 0, 1))\t\t# ValueError: 'b' is not in deque\n",
    "\n",
    "\n",
    "### insert(i, x): i 위치에 x를 삽입\n",
    "from collections import deque\n",
    "# queue = ['b', 'c']\n",
    "queue.insert(0, 'a')\t\t# queue = ['a', 'b', 'c']\n",
    "\n",
    "\n",
    "### pop(): 큐의 맨 오른쪽의 element를 삭제하고 반환\n",
    "# queue = ['b', 'c']\n",
    "popped = queue.pop()\t\t# popped = 'c'\n",
    "\n",
    "### popleft(): 큐의 맨 왼쪽의 element를 삭제하고 반환.\n",
    "# queue = ['b', 'c']\n",
    "popped_left = queue.popleft()\t\t# popped_left = 'b'\n",
    "\n",
    "\n",
    "### remove(value): 큐에 있는 value 값 중 처음으로 등장한 value를 삭제\n",
    "# queue = ['b', 'c', 'b']\n",
    "queue.remove('b')\t\t# queue = ['c', 'b']\n",
    "\n",
    "\n",
    "### reverse(): 큐를 제자리에서 반대로 뒤집는다. 반환값은 없음.\n",
    "# queue = ['c', 'b', 'a']\n",
    "queue.reverse()\t \t# queue = ['a', 'b', 'c']"
   ]
  },
  {
   "cell_type": "code",
   "execution_count": null,
   "metadata": {},
   "outputs": [],
   "source": [
    "### clear() : 모든 요소 삭제\n",
    "queue.clear()\n",
    "# queue = []"
   ]
  },
  {
   "cell_type": "code",
   "execution_count": null,
   "metadata": {},
   "outputs": [],
   "source": []
  },
  {
   "cell_type": "markdown",
   "metadata": {},
   "source": [
    "## bisect"
   ]
  },
  {
   "cell_type": "code",
   "execution_count": null,
   "metadata": {},
   "outputs": [],
   "source": [
    "# bisect_left(literable, value) : 왼쪽 인덱스를 구하기\n",
    "# bisect_right(literable, value) : 오른쪽 인덱스를 구하기\n",
    "\n",
    "import bisect\n",
    "\n",
    "a = [1,5,5,5,8]\n",
    "bisect.bisect_left(a, 5)\t#1\n",
    "bisect.bisect_right(a, 5)\t#4\n",
    "\n",
    "nums = [0,1,2,3,4,5,6,7,8,9]\n",
    "print(bisect.bisect_left(nums, 5))\t#5\n",
    "print(bisect.bisect_right(nums, 5))\t#6"
   ]
  },
  {
   "cell_type": "code",
   "execution_count": null,
   "metadata": {},
   "outputs": [],
   "source": []
  },
  {
   "cell_type": "markdown",
   "metadata": {},
   "source": [
    "## heapq"
   ]
  },
  {
   "cell_type": "code",
   "execution_count": null,
   "metadata": {},
   "outputs": [],
   "source": [
    "# 맨 처음이 가장 작은 원소가 오는건 맞지만, 작은순서대로 나열되는게 아니라 \"원소(k)는 항상 자식 원소들(2k+1, 2k+2) 보다 크기가 작거나 같도록 원소가 추가되고 삭제\" 이 특성을 가지고 나열된다. → heappop을 이용하여 작은원소를 뺀 다음 다시 제일 작은 원소가 맨 처음으로 오도록 해서 해결하였다\n",
    "\n",
    "heap = []\n",
    "heapq.heappush(heap, 50)\n",
    "heapq.heappush(heap, 10)\n",
    "heapq.heappush(heap, 20)\n",
    "\n",
    "print(heap)    #[10, 50, 20]\n",
    "\n",
    "heapq.heappush(heap,14)\n",
    "print(heap)    #[10, 14, 20, 50]\n",
    "\n",
    "heapq.heappush(heap,22)\n",
    "print(heap)    #[10, 14, 20, 50, 22]\n",
    "\n",
    "#######################################\n",
    "\n",
    "result = heapq.heappop(heap)\n",
    "print(result)  # 10\n",
    "print(heap)  # [14, 22, 20, 50]\n",
    "\n",
    "result = heapq.heappop(heap)\n",
    "print(result)  # 14\n",
    "print(heap)  # [20, 22, 50]\n",
    "\n",
    "result = heapq.heappop(heap)\n",
    "print(result)  # 20\n",
    "print(heap)  # [22, 50]\n",
    "\n",
    "result = heapq.heappop(heap)\n",
    "print(result)  # 22\n",
    "print(heap)  # [50]"
   ]
  },
  {
   "cell_type": "code",
   "execution_count": null,
   "metadata": {},
   "outputs": [],
   "source": [
    "# - heapq.heappush(heap, item) : item을 heap에 추가\n",
    "# - heapq.heappop(heap) : heap에서 가장 작은 원소를 pop & 리턴. 비어 있는 경우 IndexError가 호출됨.\n",
    "# - heapq.heapify(x) : 리스트 x를 즉각적으로 heap으로 변환함 (in linear time, *O(N)* )\n",
    "\n",
    "import heapq\n",
    "\n",
    "### 생성, 추가\n",
    "heap = []\n",
    "heapq.heappush(heap, 50)\n",
    "heapq.heappush(heap, 10)\n",
    "heapq.heappush(heap, 20)\n",
    "print(heap)    # [10, 50, 20]\n",
    "\n",
    "\n",
    "### list를 heap으로\n",
    "heap = [50 ,10, 20]\n",
    "heapq.heapify(heap)\n",
    "\n",
    "\n",
    "### 삭제\n",
    "result = heapq.heappop(heap)\n",
    "print(result)    #10\n",
    "print(heap)    # [50, 20]"
   ]
  },
  {
   "cell_type": "code",
   "execution_count": null,
   "metadata": {},
   "outputs": [],
   "source": [
    "# f 기준으로 (f, s)가 heap 리스트 안에 들어간다.\n",
    "heapq.heappush(heap, (f, s))\n",
    "heapq.heappush(heap, [f, s])"
   ]
  },
  {
   "cell_type": "code",
   "execution_count": null,
   "metadata": {},
   "outputs": [],
   "source": []
  }
 ],
 "metadata": {
  "language_info": {
   "name": "python"
  }
 },
 "nbformat": 4,
 "nbformat_minor": 2
}
