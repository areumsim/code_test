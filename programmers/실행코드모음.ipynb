{
 "cells": [
  {
   "cell_type": "markdown",
   "metadata": {},
   "source": [
    "### 약수 구하기"
   ]
  },
  {
   "cell_type": "code",
   "execution_count": null,
   "metadata": {},
   "outputs": [],
   "source": [
    "def getMyDivisor(n):\n",
    "     divisorsList = []\n",
    "     for i in range(1, int(n**(1/2)) + 1):\n",
    "          if (n % i == 0):\n",
    "               divisorsList.append(i)\n",
    "               if ( (i**2) != n) :\n",
    "                    divisorsList.append(n // i)\n",
    "\n",
    "     divisorsList.sort()\n",
    "     return divisorsList"
   ]
  },
  {
   "cell_type": "code",
   "execution_count": null,
   "metadata": {},
   "outputs": [],
   "source": []
  },
  {
   "cell_type": "markdown",
   "metadata": {},
   "source": [
    "### 소수 구하기 (에라토스테네스 체)\n",
    "\n",
    "특정한 숫자의 제곱근 까지만 약수의 여부를 검증하면 O(N^1/2)의 시간 복잡도로 빠르게 계산"
   ]
  },
  {
   "cell_type": "code",
   "execution_count": null,
   "metadata": {},
   "outputs": [],
   "source": []
  },
  {
   "cell_type": "markdown",
   "metadata": {},
   "source": [
    "### 직사각형 별 찍기"
   ]
  },
  {
   "cell_type": "code",
   "execution_count": null,
   "metadata": {},
   "outputs": [],
   "source": [
    "a, b = map(int, input().strip().split(' '))\n",
    "answer = ('*'*a +'\\n')*b\n",
    "\n",
    "print(answer)"
   ]
  },
  {
   "cell_type": "code",
   "execution_count": null,
   "metadata": {},
   "outputs": [],
   "source": []
  },
  {
   "cell_type": "markdown",
   "metadata": {},
   "source": [
    "### x만큼 간격이 있는 n개의 숫자"
   ]
  },
  {
   "cell_type": "code",
   "execution_count": null,
   "metadata": {},
   "outputs": [],
   "source": [
    "def number_generator(x, n):\n",
    "    return [i * x + x for i in range(n)]"
   ]
  },
  {
   "cell_type": "code",
   "execution_count": null,
   "metadata": {},
   "outputs": [],
   "source": []
  },
  {
   "cell_type": "markdown",
   "metadata": {},
   "source": [
    "### 행렬의 덧셈"
   ]
  },
  {
   "cell_type": "code",
   "execution_count": null,
   "metadata": {},
   "outputs": [],
   "source": [
    "def sumMatrix(A,B):\n",
    "    return [[c + d for c, d in zip(a, b)] for a, b in zip(A,B)]\n",
    "\n",
    "def sumMatrix(A,B):\n",
    "    return [list(map(sum, zip(*x))) for x in zip(A, B)]"
   ]
  },
  {
   "cell_type": "code",
   "execution_count": null,
   "metadata": {},
   "outputs": [],
   "source": []
  },
  {
   "cell_type": "markdown",
   "metadata": {},
   "source": [
    "### 핸드폰 번호 가리기"
   ]
  },
  {
   "cell_type": "code",
   "execution_count": null,
   "metadata": {},
   "outputs": [],
   "source": [
    "def hide_numbers(s):\n",
    "    return \"*\"*(len(s)-4) + s[-4:]"
   ]
  },
  {
   "cell_type": "code",
   "execution_count": null,
   "metadata": {},
   "outputs": [],
   "source": []
  },
  {
   "cell_type": "markdown",
   "metadata": {},
   "source": [
    "### 하샤드 수"
   ]
  },
  {
   "cell_type": "code",
   "execution_count": null,
   "metadata": {},
   "outputs": [],
   "source": [
    "def Harshad(n):\n",
    "    return n % sum([int(c) for c in str(n)]) == 0"
   ]
  },
  {
   "cell_type": "code",
   "execution_count": null,
   "metadata": {},
   "outputs": [],
   "source": []
  },
  {
   "cell_type": "markdown",
   "metadata": {},
   "source": [
    "### 최대공약수 / 최소공배수"
   ]
  },
  {
   "cell_type": "code",
   "execution_count": null,
   "metadata": {},
   "outputs": [],
   "source": [
    "def gcdlcm(a, b):\n",
    "    c, d = max(a, b), min(a, b)\n",
    "    t = 1\n",
    "    while t > 0:\n",
    "        t = c % d\n",
    "        c, d = d, t\n",
    "    answer = [c, int(a*b/c)]\n",
    "\n",
    "    return answer\n",
    "\n",
    "def solution(n, m):\n",
    "    gcd = lambda a,b : b if not a%b else gcd(b, a%b)\n",
    "    lcm = lambda a,b : a*b//gcd(a,b)\n",
    "    return [gcd(n, m), lcm(n, m)]"
   ]
  },
  {
   "cell_type": "code",
   "execution_count": null,
   "metadata": {},
   "outputs": [],
   "source": []
  },
  {
   "cell_type": "markdown",
   "metadata": {},
   "source": [
    "### 자연수 뒤집어 배열로 만들기"
   ]
  },
  {
   "cell_type": "code",
   "execution_count": null,
   "metadata": {},
   "outputs": [],
   "source": [
    "def digit_reverse(n):\n",
    "    return list(map(int, reversed(str(n))))"
   ]
  },
  {
   "cell_type": "code",
   "execution_count": null,
   "metadata": {},
   "outputs": [],
   "source": []
  },
  {
   "cell_type": "markdown",
   "metadata": {},
   "source": [
    "### 숫자로 된 문자열인지, 문자열 길이 확인"
   ]
  },
  {
   "cell_type": "code",
   "execution_count": null,
   "metadata": {},
   "outputs": [],
   "source": [
    "def alpha_string46(s):\n",
    "    try:\n",
    "        int(s)\n",
    "    except:\n",
    "        return False\n",
    "    return len(s) == 4 or len(s) == 6\n",
    "\n",
    "def alpha_string46(s):\n",
    "    return s.isdigit() and len(s) in (4, 6)"
   ]
  },
  {
   "cell_type": "code",
   "execution_count": null,
   "metadata": {},
   "outputs": [],
   "source": []
  },
  {
   "cell_type": "markdown",
   "metadata": {},
   "source": [
    "### 10진법 -> 3진법 -> 뒤집기 -> 10 진법"
   ]
  },
  {
   "cell_type": "code",
   "execution_count": null,
   "metadata": {},
   "outputs": [],
   "source": [
    "def solution(n):\n",
    "    tmp = ''\n",
    "    while n:\n",
    "        tmp += str(n % 3)\n",
    "        n = n // 3\n",
    "\n",
    "answer = int(tmp, 3)\n",
    "return answer"
   ]
  },
  {
   "cell_type": "code",
   "execution_count": null,
   "metadata": {},
   "outputs": [],
   "source": []
  },
  {
   "cell_type": "markdown",
   "metadata": {},
   "source": [
    "### 비밀지도"
   ]
  },
  {
   "cell_type": "code",
   "execution_count": null,
   "metadata": {},
   "outputs": [],
   "source": [
    "def solution(n, arr1, arr2):\n",
    "     answer = []\n",
    "     for i,j in zip(arr1,arr2):\n",
    "          a12 = str(bin(i|j)[2:])\n",
    "          a12=a12.rjust(n,'0')\n",
    "          a12=a12.replace('1','#')\n",
    "          a12=a12.replace('0',' ')\n",
    "          answer.append(a12)\n",
    "     return answer"
   ]
  },
  {
   "cell_type": "code",
   "execution_count": null,
   "metadata": {},
   "outputs": [],
   "source": []
  },
  {
   "cell_type": "markdown",
   "metadata": {},
   "source": [
    "### 로또 최고/최저 순위"
   ]
  },
  {
   "cell_type": "code",
   "execution_count": null,
   "metadata": {},
   "outputs": [],
   "source": [
    "def solution(lottos, win_nums):\n",
    "     rank = {\n",
    "         0: 6,\n",
    "         1: 6,\n",
    "         2: 5,\n",
    "         3: 4,\n",
    "         4: 3,\n",
    "         5: 2,\n",
    "         6: 1\n",
    "     }\n",
    "     return [rank[len(set(lottos) & set(win_nums)) + lottos.count(0)], rank[len(set(lottos) & set(win_nums))]]"
   ]
  },
  {
   "cell_type": "code",
   "execution_count": null,
   "metadata": {},
   "outputs": [],
   "source": []
  },
  {
   "cell_type": "markdown",
   "metadata": {},
   "source": [
    "### 아이디"
   ]
  },
  {
   "cell_type": "code",
   "execution_count": null,
   "metadata": {},
   "outputs": [],
   "source": [
    "\t\n",
    "def solution(new_id):\n",
    "\t\t# 1단계\n",
    "\t\tnew_id = new_id.lower()\n",
    "\t\t\n",
    "\t\t# 2단계\n",
    "\t\tanswer = ''\n",
    "\t\tfor word in new_id:\n",
    "\t\t    if word.isalnum() or word in '-_.':\n",
    "\t\t        answer += word\n",
    "\t\t\n",
    "\t\t# 3단계\n",
    "\t\twhile '..' in answer:\n",
    "\t\t    answer = answer.replace('..', '.')\n",
    "\t\t\n",
    "\t\t# 4단계\n",
    "\t\tanswer = answer[1:] if answer[0] == '.' and len(answer) > 1 else answer\n",
    "\t\tanswer = answer[:-1] if answer[-1] == '.' else answer\n",
    "\t\t\n",
    "\t\t# 5단계\n",
    "\t\tanswer = 'a' if answer == '' else answer\n",
    "\t\t\n",
    "\t\t# 6단계\n",
    "\t\tif len(answer) >= 16:\n",
    "\t\t    answer = answer[:15]\n",
    "\t\t    if answer[-1] == '.':\n",
    "\t\t        answer = answer[:-1]\n",
    "\t\t\n",
    "\t\t# 7단계\n",
    "\t\tif len(answer) <= 3:\n",
    "\t\t    answer = answer + answer[-1] * (3-len(answer))\n",
    "return answer\n"
   ]
  }
 ],
 "metadata": {
  "language_info": {
   "name": "python"
  }
 },
 "nbformat": 4,
 "nbformat_minor": 2
}
