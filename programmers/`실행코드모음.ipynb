{
 "cells": [
  {
   "cell_type": "markdown",
   "metadata": {},
   "source": [
    "### 소수 구하기 (에라토스테네스 체)\n",
    "\n",
    "특정한 숫자의 제곱근 까지만 약수의 여부를 검증하면 O(N^1/2)의 시간 복잡도로 빠르게 계산"
   ]
  },
  {
   "cell_type": "code",
   "execution_count": null,
   "metadata": {},
   "outputs": [],
   "source": []
  },
  {
   "cell_type": "markdown",
   "metadata": {},
   "source": [
    "### 직사각형 별 찍기"
   ]
  },
  {
   "cell_type": "code",
   "execution_count": null,
   "metadata": {},
   "outputs": [],
   "source": [
    "a, b = map(int, input().strip().split(' '))\n",
    "answer = ('*'*a +'\\n')*b\n",
    "\n",
    "print(answer)"
   ]
  },
  {
   "cell_type": "code",
   "execution_count": null,
   "metadata": {},
   "outputs": [],
   "source": []
  },
  {
   "cell_type": "markdown",
   "metadata": {},
   "source": [
    "### x만큼 간격이 있는 n개의 숫자"
   ]
  },
  {
   "cell_type": "code",
   "execution_count": null,
   "metadata": {},
   "outputs": [],
   "source": [
    "def number_generator(x, n):\n",
    "    return [i * x + x for i in range(n)]"
   ]
  },
  {
   "cell_type": "code",
   "execution_count": null,
   "metadata": {},
   "outputs": [],
   "source": []
  },
  {
   "cell_type": "markdown",
   "metadata": {},
   "source": [
    "### 행렬의 덧셈"
   ]
  },
  {
   "cell_type": "code",
   "execution_count": null,
   "metadata": {},
   "outputs": [],
   "source": [
    "def sumMatrix(A,B):\n",
    "    return [[c + d for c, d in zip(a, b)] for a, b in zip(A,B)]\n",
    "\n",
    "def sumMatrix(A,B):\n",
    "    return [list(map(sum, zip(*x))) for x in zip(A, B)]"
   ]
  },
  {
   "cell_type": "code",
   "execution_count": null,
   "metadata": {},
   "outputs": [],
   "source": []
  },
  {
   "cell_type": "markdown",
   "metadata": {},
   "source": [
    "### 핸드폰 번호 가리기"
   ]
  },
  {
   "cell_type": "code",
   "execution_count": null,
   "metadata": {},
   "outputs": [],
   "source": [
    "def hide_numbers(s):\n",
    "    return \"*\"*(len(s)-4) + s[-4:]"
   ]
  },
  {
   "cell_type": "code",
   "execution_count": null,
   "metadata": {},
   "outputs": [],
   "source": []
  },
  {
   "cell_type": "markdown",
   "metadata": {},
   "source": [
    "### 하샤드 수"
   ]
  },
  {
   "cell_type": "code",
   "execution_count": null,
   "metadata": {},
   "outputs": [],
   "source": [
    "def Harshad(n):\n",
    "    return n % sum([int(c) for c in str(n)]) == 0"
   ]
  },
  {
   "cell_type": "code",
   "execution_count": null,
   "metadata": {},
   "outputs": [],
   "source": []
  },
  {
   "cell_type": "markdown",
   "metadata": {},
   "source": [
    "### 최대공약수 / 최소공배수"
   ]
  },
  {
   "cell_type": "code",
   "execution_count": null,
   "metadata": {},
   "outputs": [],
   "source": [
    "def gcdlcm(a, b):\n",
    "    c, d = max(a, b), min(a, b)\n",
    "    t = 1\n",
    "    while t > 0:\n",
    "        t = c % d\n",
    "        c, d = d, t\n",
    "    answer = [c, int(a*b/c)]\n",
    "\n",
    "    return answer\n",
    "\n",
    "def solution(n, m):\n",
    "    gcd = lambda a,b : b if not a%b else gcd(b, a%b)\n",
    "    lcm = lambda a,b : a*b//gcd(a,b)\n",
    "    return [gcd(n, m), lcm(n, m)]"
   ]
  },
  {
   "cell_type": "code",
   "execution_count": null,
   "metadata": {},
   "outputs": [],
   "source": []
  },
  {
   "cell_type": "markdown",
   "metadata": {},
   "source": [
    "### 자연수 뒤집어 배열로 만들기"
   ]
  },
  {
   "cell_type": "code",
   "execution_count": null,
   "metadata": {},
   "outputs": [],
   "source": [
    "def digit_reverse(n):\n",
    "    return list(map(int, reversed(str(n))))"
   ]
  },
  {
   "cell_type": "code",
   "execution_count": null,
   "metadata": {},
   "outputs": [],
   "source": []
  },
  {
   "cell_type": "markdown",
   "metadata": {},
   "source": [
    "### 숫자로 된 문자열인지, 문자열 길이 확인"
   ]
  },
  {
   "cell_type": "code",
   "execution_count": null,
   "metadata": {},
   "outputs": [],
   "source": [
    "def alpha_string46(s):\n",
    "    try:\n",
    "        int(s)\n",
    "    except:\n",
    "        return False\n",
    "    return len(s) == 4 or len(s) == 6\n",
    "\n",
    "def alpha_string46(s):\n",
    "    return s.isdigit() and len(s) in (4, 6)"
   ]
  },
  {
   "cell_type": "code",
   "execution_count": null,
   "metadata": {},
   "outputs": [],
   "source": []
  },
  {
   "cell_type": "markdown",
   "metadata": {},
   "source": [
    "### 10진법 -> 3진법 -> 뒤집기 -> 10 진법"
   ]
  },
  {
   "cell_type": "code",
   "execution_count": null,
   "metadata": {},
   "outputs": [],
   "source": [
    "def solution(n):\n",
    "    tmp = ''\n",
    "    while n:\n",
    "        tmp += str(n % 3)\n",
    "        n = n // 3\n",
    "\n",
    "    answer = int(tmp, 3)\n",
    "    return answer"
   ]
  },
  {
   "cell_type": "code",
   "execution_count": null,
   "metadata": {},
   "outputs": [],
   "source": []
  }
 ],
 "metadata": {
  "language_info": {
   "name": "python"
  }
 },
 "nbformat": 4,
 "nbformat_minor": 2
}
